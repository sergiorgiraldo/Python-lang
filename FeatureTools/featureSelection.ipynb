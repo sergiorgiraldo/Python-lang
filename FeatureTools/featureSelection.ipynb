{
 "cells": [
  {
   "cell_type": "code",
   "execution_count": 2,
   "metadata": {},
   "outputs": [],
   "source": [
    "# Pandas and numpy for data manipulation\n",
    "import pandas as pd\n",
    "import numpy as np\n",
    "\n",
    "RSEED = 50"
   ]
  },
  {
   "cell_type": "code",
   "execution_count": null,
   "metadata": {},
   "outputs": [
    {
     "name": "stderr",
     "output_type": "stream",
     "text": [
      "C:\\Users\\sgiraldo\\AppData\\Local\\Continuum\\anaconda3\\lib\\site-packages\\IPython\\core\\interactiveshell.py:2785: DtypeWarning: Columns (18,27,50,52,60,64,69,81,82,113,143,163,173,174,175,176,202,241,266,281) have mixed types. Specify dtype option on import or set low_memory=False.\n",
      "  interactivity=interactivity, compiler=compiler, result=result)\n"
     ]
    },
    {
     "name": "stdout",
     "output_type": "stream",
     "text": [
      "Original number of features: 281.\n"
     ]
    }
   ],
   "source": [
    "# Read in data\n",
    "app_train = pd.read_csv('data.csv', sep = ';')\n",
    "\n",
    "train_ids = list(app_train['IDT_ORDER'])\n",
    "\n",
    "print('Original number of features: {}.'.format(app_train.shape[1] - 2))\n",
    "\n",
    "# One Hot Encode\n",
    "app_train = pd.get_dummies(app_train)\n",
    "\n",
    "original_features = list(app_train.columns)\n",
    "\n",
    "print('Number of features after one-hot encoding: {}.'.format(app_train.shape[1] - 2))"
   ]
  },
  {
   "cell_type": "code",
   "execution_count": null,
   "metadata": {},
   "outputs": [],
   "source": []
  }
 ],
 "metadata": {
  "kernelspec": {
   "display_name": "Python 3",
   "language": "python",
   "name": "python3"
  },
  "language_info": {
   "codemirror_mode": {
    "name": "ipython",
    "version": 3
   },
   "file_extension": ".py",
   "mimetype": "text/x-python",
   "name": "python",
   "nbconvert_exporter": "python",
   "pygments_lexer": "ipython3",
   "version": "3.6.5"
  }
 },
 "nbformat": 4,
 "nbformat_minor": 2
}
