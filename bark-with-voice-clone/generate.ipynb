{
 "cells": [
  {
   "cell_type": "code",
   "execution_count": 1,
   "metadata": {},
   "outputs": [
    {
     "name": "stderr",
     "output_type": "stream",
     "text": [
      "/Users/GK47LX/.pyenv/versions/3.11.1/lib/python3.11/site-packages/tqdm/auto.py:21: TqdmWarning: IProgress not found. Please update jupyter and ipywidgets. See https://ipywidgets.readthedocs.io/en/stable/user_install.html\n",
      "  from .autonotebook import tqdm as notebook_tqdm\n"
     ]
    }
   ],
   "source": [
    "from bark.api import generate_audio\n",
    "from transformers import BertTokenizer\n",
    "from bark.generation import SAMPLE_RATE, preload_models, codec_decode, generate_coarse, generate_fine, generate_text_semantic\n",
    "\n",
    "# Enter your prompt and speaker here\n",
    "text_prompt = \"Hello, my name is Serpy. And, uh — and I like pizza. [laughs]\"\n",
    "voice_name = \"srg\" # use your custom voice name here if you have one\n",
    "\n",
    "# load the tokenizer\n",
    "tokenizer = BertTokenizer.from_pretrained(\"bert-base-multilingual-cased\")"
   ]
  },
  {
   "cell_type": "code",
   "execution_count": 2,
   "metadata": {},
   "outputs": [
    {
     "name": "stderr",
     "output_type": "stream",
     "text": [
      "No GPU being used. Careful, inference might be very slow!\n"
     ]
    }
   ],
   "source": [
    "# download and load all models\n",
    "preload_models(\n",
    "    text_use_gpu=True,\n",
    "    text_use_small=False,\n",
    "    coarse_use_gpu=True,\n",
    "    coarse_use_small=False,\n",
    "    fine_use_gpu=True,\n",
    "    fine_use_small=False,\n",
    "    codec_use_gpu=True,\n",
    "    force_reload=False,\n",
    "    path=\"models\"\n",
    ")"
   ]
  },
  {
   "cell_type": "code",
   "execution_count": 3,
   "metadata": {},
   "outputs": [
    {
     "name": "stderr",
     "output_type": "stream",
     "text": [
      "100%|██████████| 100/100 [00:21<00:00,  4.60it/s]\n"
     ]
    },
    {
     "ename": "AssertionError",
     "evalue": "",
     "output_type": "error",
     "traceback": [
      "\u001b[0;31m---------------------------------------------------------------------------\u001b[0m",
      "\u001b[0;31mAssertionError\u001b[0m                            Traceback (most recent call last)",
      "Cell \u001b[0;32mIn[3], line 2\u001b[0m\n\u001b[1;32m      1\u001b[0m \u001b[39m# simple generation\u001b[39;00m\n\u001b[0;32m----> 2\u001b[0m audio_array \u001b[39m=\u001b[39m generate_audio(text_prompt, history_prompt\u001b[39m=\u001b[39;49mvoice_name, text_temp\u001b[39m=\u001b[39;49m\u001b[39m0.7\u001b[39;49m, waveform_temp\u001b[39m=\u001b[39;49m\u001b[39m0.7\u001b[39;49m)\n",
      "File \u001b[0;32m~/source/Python-lang/bark-with-voice-clone/bark/api.py:113\u001b[0m, in \u001b[0;36mgenerate_audio\u001b[0;34m(text, history_prompt, text_temp, waveform_temp, silent, output_full)\u001b[0m\n\u001b[1;32m     94\u001b[0m \u001b[39m\u001b[39m\u001b[39m\"\"\"Generate audio array from input text.\u001b[39;00m\n\u001b[1;32m     95\u001b[0m \n\u001b[1;32m     96\u001b[0m \u001b[39mArgs:\u001b[39;00m\n\u001b[0;32m   (...)\u001b[0m\n\u001b[1;32m    105\u001b[0m \u001b[39m    numpy audio array at sample frequency 24khz\u001b[39;00m\n\u001b[1;32m    106\u001b[0m \u001b[39m\"\"\"\u001b[39;00m\n\u001b[1;32m    107\u001b[0m semantic_tokens \u001b[39m=\u001b[39m text_to_semantic(\n\u001b[1;32m    108\u001b[0m     text,\n\u001b[1;32m    109\u001b[0m     history_prompt\u001b[39m=\u001b[39mhistory_prompt,\n\u001b[1;32m    110\u001b[0m     temp\u001b[39m=\u001b[39mtext_temp,\n\u001b[1;32m    111\u001b[0m     silent\u001b[39m=\u001b[39msilent,\n\u001b[1;32m    112\u001b[0m )\n\u001b[0;32m--> 113\u001b[0m out \u001b[39m=\u001b[39m semantic_to_waveform(\n\u001b[1;32m    114\u001b[0m     semantic_tokens,\n\u001b[1;32m    115\u001b[0m     history_prompt\u001b[39m=\u001b[39;49mhistory_prompt,\n\u001b[1;32m    116\u001b[0m     temp\u001b[39m=\u001b[39;49mwaveform_temp,\n\u001b[1;32m    117\u001b[0m     silent\u001b[39m=\u001b[39;49msilent,\n\u001b[1;32m    118\u001b[0m     output_full\u001b[39m=\u001b[39;49moutput_full,\n\u001b[1;32m    119\u001b[0m )\n\u001b[1;32m    120\u001b[0m \u001b[39mif\u001b[39;00m output_full:\n\u001b[1;32m    121\u001b[0m     full_generation, audio_arr \u001b[39m=\u001b[39m out\n",
      "File \u001b[0;32m~/source/Python-lang/bark-with-voice-clone/bark/api.py:54\u001b[0m, in \u001b[0;36msemantic_to_waveform\u001b[0;34m(semantic_tokens, history_prompt, temp, silent, output_full)\u001b[0m\n\u001b[1;32m     35\u001b[0m \u001b[39mdef\u001b[39;00m \u001b[39msemantic_to_waveform\u001b[39m(\n\u001b[1;32m     36\u001b[0m     semantic_tokens: np\u001b[39m.\u001b[39mndarray,\n\u001b[1;32m     37\u001b[0m     history_prompt: Optional[\u001b[39mstr\u001b[39m] \u001b[39m=\u001b[39m \u001b[39mNone\u001b[39;00m,\n\u001b[0;32m   (...)\u001b[0m\n\u001b[1;32m     40\u001b[0m     output_full: \u001b[39mbool\u001b[39m \u001b[39m=\u001b[39m \u001b[39mFalse\u001b[39;00m,\n\u001b[1;32m     41\u001b[0m ):\n\u001b[1;32m     42\u001b[0m \u001b[39m    \u001b[39m\u001b[39m\"\"\"Generate audio array from semantic input.\u001b[39;00m\n\u001b[1;32m     43\u001b[0m \n\u001b[1;32m     44\u001b[0m \u001b[39m    Args:\u001b[39;00m\n\u001b[0;32m   (...)\u001b[0m\n\u001b[1;32m     52\u001b[0m \u001b[39m        numpy audio array at sample frequency 24khz\u001b[39;00m\n\u001b[1;32m     53\u001b[0m \u001b[39m    \"\"\"\u001b[39;00m\n\u001b[0;32m---> 54\u001b[0m     coarse_tokens \u001b[39m=\u001b[39m generate_coarse(\n\u001b[1;32m     55\u001b[0m         semantic_tokens,\n\u001b[1;32m     56\u001b[0m         history_prompt\u001b[39m=\u001b[39;49mhistory_prompt,\n\u001b[1;32m     57\u001b[0m         temp\u001b[39m=\u001b[39;49mtemp,\n\u001b[1;32m     58\u001b[0m         silent\u001b[39m=\u001b[39;49msilent,\n\u001b[1;32m     59\u001b[0m         use_kv_caching\u001b[39m=\u001b[39;49m\u001b[39mTrue\u001b[39;49;00m\n\u001b[1;32m     60\u001b[0m     )\n\u001b[1;32m     61\u001b[0m     fine_tokens \u001b[39m=\u001b[39m generate_fine(\n\u001b[1;32m     62\u001b[0m         coarse_tokens,\n\u001b[1;32m     63\u001b[0m         history_prompt\u001b[39m=\u001b[39mhistory_prompt,\n\u001b[1;32m     64\u001b[0m         temp\u001b[39m=\u001b[39m\u001b[39m0.5\u001b[39m,\n\u001b[1;32m     65\u001b[0m     )\n\u001b[1;32m     66\u001b[0m     audio_arr \u001b[39m=\u001b[39m codec_decode(fine_tokens)\n",
      "File \u001b[0;32m~/source/Python-lang/bark-with-voice-clone/bark/generation.py:567\u001b[0m, in \u001b[0;36mgenerate_coarse\u001b[0;34m(x_semantic, history_prompt, temp, top_k, top_p, silent, max_coarse_history, sliding_window_len, use_kv_caching)\u001b[0m\n\u001b[1;32m    552\u001b[0m x_semantic_history \u001b[39m=\u001b[39m x_history[\u001b[39m\"\u001b[39m\u001b[39msemantic_prompt\u001b[39m\u001b[39m\"\u001b[39m]\n\u001b[1;32m    553\u001b[0m x_coarse_history \u001b[39m=\u001b[39m x_history[\u001b[39m\"\u001b[39m\u001b[39mcoarse_prompt\u001b[39m\u001b[39m\"\u001b[39m]\n\u001b[1;32m    554\u001b[0m \u001b[39massert\u001b[39;00m (\n\u001b[1;32m    555\u001b[0m     \u001b[39misinstance\u001b[39m(x_semantic_history, np\u001b[39m.\u001b[39mndarray)\n\u001b[1;32m    556\u001b[0m     \u001b[39mand\u001b[39;00m \u001b[39mlen\u001b[39m(x_semantic_history\u001b[39m.\u001b[39mshape) \u001b[39m==\u001b[39m \u001b[39m1\u001b[39m\n\u001b[1;32m    557\u001b[0m     \u001b[39mand\u001b[39;00m \u001b[39mlen\u001b[39m(x_semantic_history) \u001b[39m>\u001b[39m \u001b[39m0\u001b[39m\n\u001b[1;32m    558\u001b[0m     \u001b[39mand\u001b[39;00m x_semantic_history\u001b[39m.\u001b[39mmin() \u001b[39m>\u001b[39m\u001b[39m=\u001b[39m \u001b[39m0\u001b[39m\n\u001b[1;32m    559\u001b[0m     \u001b[39mand\u001b[39;00m x_semantic_history\u001b[39m.\u001b[39mmax() \u001b[39m<\u001b[39m\u001b[39m=\u001b[39m SEMANTIC_VOCAB_SIZE \u001b[39m-\u001b[39m \u001b[39m1\u001b[39m\n\u001b[1;32m    560\u001b[0m     \u001b[39mand\u001b[39;00m \u001b[39misinstance\u001b[39m(x_coarse_history, np\u001b[39m.\u001b[39mndarray)\n\u001b[1;32m    561\u001b[0m     \u001b[39mand\u001b[39;00m \u001b[39mlen\u001b[39m(x_coarse_history\u001b[39m.\u001b[39mshape) \u001b[39m==\u001b[39m \u001b[39m2\u001b[39m\n\u001b[1;32m    562\u001b[0m     \u001b[39mand\u001b[39;00m x_coarse_history\u001b[39m.\u001b[39mshape[\u001b[39m0\u001b[39m] \u001b[39m==\u001b[39m N_COARSE_CODEBOOKS\n\u001b[1;32m    563\u001b[0m     \u001b[39mand\u001b[39;00m x_coarse_history\u001b[39m.\u001b[39mshape[\u001b[39m-\u001b[39m\u001b[39m1\u001b[39m] \u001b[39m>\u001b[39m\u001b[39m=\u001b[39m \u001b[39m0\u001b[39m\n\u001b[1;32m    564\u001b[0m     \u001b[39mand\u001b[39;00m x_coarse_history\u001b[39m.\u001b[39mmin() \u001b[39m>\u001b[39m\u001b[39m=\u001b[39m \u001b[39m0\u001b[39m\n\u001b[1;32m    565\u001b[0m     \u001b[39mand\u001b[39;00m x_coarse_history\u001b[39m.\u001b[39mmax() \u001b[39m<\u001b[39m\u001b[39m=\u001b[39m CODEBOOK_SIZE \u001b[39m-\u001b[39m \u001b[39m1\u001b[39m\n\u001b[1;32m    566\u001b[0m     \u001b[39mand\u001b[39;00m (\n\u001b[0;32m--> 567\u001b[0m         \u001b[39mround\u001b[39m(x_coarse_history\u001b[39m.\u001b[39mshape[\u001b[39m-\u001b[39m\u001b[39m1\u001b[39m] \u001b[39m/\u001b[39m \u001b[39mlen\u001b[39m(x_semantic_history), \u001b[39m1\u001b[39m)\n\u001b[1;32m    568\u001b[0m         \u001b[39m==\u001b[39m \u001b[39mround\u001b[39m(semantic_to_coarse_ratio \u001b[39m/\u001b[39m N_COARSE_CODEBOOKS, \u001b[39m1\u001b[39m)\n\u001b[1;32m    569\u001b[0m     )\n\u001b[1;32m    570\u001b[0m )\n\u001b[1;32m    571\u001b[0m x_coarse_history \u001b[39m=\u001b[39m _flatten_codebooks(x_coarse_history) \u001b[39m+\u001b[39m SEMANTIC_VOCAB_SIZE\n\u001b[1;32m    572\u001b[0m \u001b[39m# trim histories correctly\u001b[39;00m\n",
      "\u001b[0;31mAssertionError\u001b[0m: "
     ]
    }
   ],
   "source": [
    "# simple generation\n",
    "audio_array = generate_audio(text_prompt, history_prompt=voice_name, text_temp=0.7, waveform_temp=0.7)"
   ]
  },
  {
   "cell_type": "code",
   "execution_count": null,
   "metadata": {},
   "outputs": [],
   "source": [
    "# generation with more control\n",
    "x_semantic = generate_text_semantic(\n",
    "    text_prompt,\n",
    "    history_prompt=voice_name,\n",
    "    temp=0.7,\n",
    "    top_k=50,\n",
    "    top_p=0.95,\n",
    ")\n",
    "\n",
    "x_coarse_gen = generate_coarse(\n",
    "    x_semantic,\n",
    "    history_prompt=voice_name,\n",
    "    temp=0.7,\n",
    "    top_k=50,\n",
    "    top_p=0.95,\n",
    ")\n",
    "x_fine_gen = generate_fine(\n",
    "    x_coarse_gen,\n",
    "    history_prompt=voice_name,\n",
    "    temp=0.5,\n",
    ")\n",
    "audio_array = codec_decode(x_fine_gen)"
   ]
  },
  {
   "cell_type": "code",
   "execution_count": null,
   "metadata": {},
   "outputs": [],
   "source": [
    "from IPython.display import Audio\n",
    "# play audio\n",
    "Audio(audio_array, rate=SAMPLE_RATE)"
   ]
  },
  {
   "cell_type": "code",
   "execution_count": null,
   "metadata": {},
   "outputs": [],
   "source": [
    "from scipy.io.wavfile import write as write_wav\n",
    "# save audio\n",
    "filepath = \"/output/audio.wav\" # change this to your desired output path\n",
    "write_wav(filepath, SAMPLE_RATE, audio_array)"
   ]
  },
  {
   "cell_type": "code",
   "execution_count": null,
   "metadata": {},
   "outputs": [],
   "source": []
  }
 ],
 "metadata": {
  "kernelspec": {
   "display_name": "Python 3",
   "language": "python",
   "name": "python3"
  },
  "language_info": {
   "codemirror_mode": {
    "name": "ipython",
    "version": 3
   },
   "file_extension": ".py",
   "mimetype": "text/x-python",
   "name": "python",
   "nbconvert_exporter": "python",
   "pygments_lexer": "ipython3",
   "version": "3.11.1"
  },
  "orig_nbformat": 4
 },
 "nbformat": 4,
 "nbformat_minor": 2
}
