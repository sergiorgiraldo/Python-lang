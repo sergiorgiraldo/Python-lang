{
 "cells": [
  {
   "cell_type": "markdown",
   "metadata": {},
   "source": [
    "## Getting Started with cataclysm"
   ]
  },
  {
   "cell_type": "markdown",
   "metadata": {},
   "source": [
    "### First - Begin the End\n",
    "Install the `cataclysm` package from PyPI."
   ]
  },
  {
   "cell_type": "code",
   "execution_count": 2,
   "metadata": {},
   "outputs": [
    {
     "name": "stdout",
     "output_type": "stream",
     "text": [
      "Requirement already satisfied: cataclysm in /Users/GK47LX/.pyenv/versions/3.11.1/lib/python3.11/site-packages (0.1.2)\n",
      "Requirement already satisfied: datafiles<3.0,>=2.1 in /Users/GK47LX/.pyenv/versions/3.11.1/lib/python3.11/site-packages (from cataclysm) (2.1)\n",
      "Requirement already satisfied: loguru<0.7.0,>=0.6.0 in /Users/GK47LX/.pyenv/versions/3.11.1/lib/python3.11/site-packages (from cataclysm) (0.6.0)\n",
      "Requirement already satisfied: openai<0.28.0,>=0.27.2 in /Users/GK47LX/.pyenv/versions/3.11.1/lib/python3.11/site-packages (from cataclysm) (0.27.2)\n",
      "Requirement already satisfied: plunkylib<0.2.0,>=0.1.4 in /Users/GK47LX/.pyenv/versions/3.11.1/lib/python3.11/site-packages (from cataclysm) (0.1.5)\n",
      "Requirement already satisfied: cached_property<2.0,>=1.5 in /Users/GK47LX/.pyenv/versions/3.11.1/lib/python3.11/site-packages (from datafiles<3.0,>=2.1->cataclysm) (1.5.2)\n",
      "Requirement already satisfied: classproperties<0.3,>=0.2 in /Users/GK47LX/.pyenv/versions/3.11.1/lib/python3.11/site-packages (from datafiles<3.0,>=2.1->cataclysm) (0.2.0)\n",
      "Requirement already satisfied: minilog<3.0,>=2.1 in /Users/GK47LX/.pyenv/versions/3.11.1/lib/python3.11/site-packages (from datafiles<3.0,>=2.1->cataclysm) (2.1)\n",
      "Requirement already satisfied: parse<2.0,>=1.12 in /Users/GK47LX/.pyenv/versions/3.11.1/lib/python3.11/site-packages (from datafiles<3.0,>=2.1->cataclysm) (1.19.0)\n",
      "Requirement already satisfied: ruamel.yaml<0.18.0,>=0.17.21 in /Users/GK47LX/.pyenv/versions/3.11.1/lib/python3.11/site-packages (from datafiles<3.0,>=2.1->cataclysm) (0.17.21)\n",
      "Requirement already satisfied: tomlkit<0.11.0,>=0.10.1 in /Users/GK47LX/.pyenv/versions/3.11.1/lib/python3.11/site-packages (from datafiles<3.0,>=2.1->cataclysm) (0.10.2)\n",
      "Requirement already satisfied: requests>=2.20 in /Users/GK47LX/.pyenv/versions/3.11.1/lib/python3.11/site-packages (from openai<0.28.0,>=0.27.2->cataclysm) (2.28.2)\n",
      "Requirement already satisfied: tqdm in /Users/GK47LX/.pyenv/versions/3.11.1/lib/python3.11/site-packages (from openai<0.28.0,>=0.27.2->cataclysm) (4.65.0)\n",
      "Requirement already satisfied: aiohttp in /Users/GK47LX/.pyenv/versions/3.11.1/lib/python3.11/site-packages (from openai<0.28.0,>=0.27.2->cataclysm) (3.8.4)\n",
      "Requirement already satisfied: nest-asyncio<2.0.0,>=1.5.6 in /Users/GK47LX/.pyenv/versions/3.11.1/lib/python3.11/site-packages (from plunkylib<0.2.0,>=0.1.4->cataclysm) (1.5.6)\n",
      "Requirement already satisfied: python-dotenv<2.0.0,>=1.0.0 in /Users/GK47LX/.pyenv/versions/3.11.1/lib/python3.11/site-packages (from plunkylib<0.2.0,>=0.1.4->cataclysm) (1.0.0)\n",
      "Requirement already satisfied: typer<0.8.0,>=0.7.0 in /Users/GK47LX/.pyenv/versions/3.11.1/lib/python3.11/site-packages (from plunkylib<0.2.0,>=0.1.4->cataclysm) (0.7.0)\n",
      "Requirement already satisfied: charset-normalizer<4,>=2 in /Users/GK47LX/.pyenv/versions/3.11.1/lib/python3.11/site-packages (from requests>=2.20->openai<0.28.0,>=0.27.2->cataclysm) (3.1.0)\n",
      "Requirement already satisfied: idna<4,>=2.5 in /Users/GK47LX/.pyenv/versions/3.11.1/lib/python3.11/site-packages (from requests>=2.20->openai<0.28.0,>=0.27.2->cataclysm) (3.4)\n",
      "Requirement already satisfied: urllib3<1.27,>=1.21.1 in /Users/GK47LX/.pyenv/versions/3.11.1/lib/python3.11/site-packages (from requests>=2.20->openai<0.28.0,>=0.27.2->cataclysm) (1.26.15)\n",
      "Requirement already satisfied: certifi>=2017.4.17 in /Users/GK47LX/.pyenv/versions/3.11.1/lib/python3.11/site-packages (from requests>=2.20->openai<0.28.0,>=0.27.2->cataclysm) (2022.12.7)\n",
      "Requirement already satisfied: click<9.0.0,>=7.1.1 in /Users/GK47LX/.pyenv/versions/3.11.1/lib/python3.11/site-packages (from typer<0.8.0,>=0.7.0->plunkylib<0.2.0,>=0.1.4->cataclysm) (8.1.3)\n",
      "Requirement already satisfied: attrs>=17.3.0 in /Users/GK47LX/.pyenv/versions/3.11.1/lib/python3.11/site-packages (from aiohttp->openai<0.28.0,>=0.27.2->cataclysm) (22.2.0)\n",
      "Requirement already satisfied: multidict<7.0,>=4.5 in /Users/GK47LX/.pyenv/versions/3.11.1/lib/python3.11/site-packages (from aiohttp->openai<0.28.0,>=0.27.2->cataclysm) (6.0.4)\n",
      "Requirement already satisfied: async-timeout<5.0,>=4.0.0a3 in /Users/GK47LX/.pyenv/versions/3.11.1/lib/python3.11/site-packages (from aiohttp->openai<0.28.0,>=0.27.2->cataclysm) (4.0.2)\n",
      "Requirement already satisfied: yarl<2.0,>=1.0 in /Users/GK47LX/.pyenv/versions/3.11.1/lib/python3.11/site-packages (from aiohttp->openai<0.28.0,>=0.27.2->cataclysm) (1.8.2)\n",
      "Requirement already satisfied: frozenlist>=1.1.1 in /Users/GK47LX/.pyenv/versions/3.11.1/lib/python3.11/site-packages (from aiohttp->openai<0.28.0,>=0.27.2->cataclysm) (1.3.3)\n",
      "Requirement already satisfied: aiosignal>=1.1.2 in /Users/GK47LX/.pyenv/versions/3.11.1/lib/python3.11/site-packages (from aiohttp->openai<0.28.0,>=0.27.2->cataclysm) (1.3.1)\n",
      "cataclysm - initializing datafiles in directory: .\n",
      "  Copying default file to ./env.template.cataclysm\n",
      "  source_file: /Users/GK47LX/.pyenv/versions/3.11.1/lib/python3.11/site-packages/cataclysm/default_files/env.template.cataclysm\n",
      "  destination_file: ./env.template.cataclysm\n"
     ]
    }
   ],
   "source": [
    "!pip install cataclysm\n",
    "# install default datafiles in the current directory\n",
    "!cataclysm init"
   ]
  },
  {
   "cell_type": "markdown",
   "metadata": {},
   "source": [
    "### Second - API key\n",
    "If you haven't already, add your OpenAI API key to a .env file. This cell will check if you have .env and create a new one for you if needed. We use env.template.cataclysm as an example."
   ]
  },
  {
   "cell_type": "code",
   "execution_count": 3,
   "metadata": {},
   "outputs": [
    {
     "ename": "ModuleNotFoundError",
     "evalue": "No module named 'loguru'",
     "output_type": "error",
     "traceback": [
      "\u001b[0;31m---------------------------------------------------------------------------\u001b[0m",
      "\u001b[0;31mModuleNotFoundError\u001b[0m                       Traceback (most recent call last)",
      "Input \u001b[0;32mIn [3]\u001b[0m, in \u001b[0;36m<cell line: 10>\u001b[0;34m()\u001b[0m\n\u001b[1;32m      7\u001b[0m     \u001b[38;5;28mprint\u001b[39m(\u001b[38;5;124m\"\u001b[39m\u001b[38;5;124mCreated .env file at \u001b[39m\u001b[38;5;124m\"\u001b[39m \u001b[38;5;241m+\u001b[39m os\u001b[38;5;241m.\u001b[39mpath\u001b[38;5;241m.\u001b[39mabspath(\u001b[38;5;124m\"\u001b[39m\u001b[38;5;124m.env\u001b[39m\u001b[38;5;124m\"\u001b[39m))\n\u001b[1;32m      9\u001b[0m \u001b[38;5;66;03m# suppress logging via loguru to make the notebook output cleaner, but you can change this if you want to see the logging output\u001b[39;00m\n\u001b[0;32m---> 10\u001b[0m \u001b[38;5;28;01mfrom\u001b[39;00m \u001b[38;5;21;01mloguru\u001b[39;00m \u001b[38;5;28;01mimport\u001b[39;00m logger\n\u001b[1;32m     11\u001b[0m logger\u001b[38;5;241m.\u001b[39mdisable(\u001b[38;5;124m\"\u001b[39m\u001b[38;5;124mcataclysm\u001b[39m\u001b[38;5;124m\"\u001b[39m)\n",
      "\u001b[0;31mModuleNotFoundError\u001b[0m: No module named 'loguru'"
     ]
    }
   ],
   "source": [
    "# Got the .env file? It contains our API keys, so you'll need it.\n",
    "import os, shutil\n",
    "if not os.path.exists(\".env\"):\n",
    "    print(\"WARNING: Since you didn't have a .env file, we're creating one from the template. Edit it to add your API key.\")\n",
    "    # copy the template to .env\n",
    "    shutil.copyfile(\"env.template.cataclysm\", \".env\")\n",
    "    print(\"Created .env file at \" + os.path.abspath(\".env\"))\n",
    "\n",
    "# suppress logging via loguru to make the notebook output cleaner, but you can change this if you want to see the logging output\n",
    "from loguru import logger\n",
    "logger.disable(\"cataclysm\")\n"
   ]
  },
  {
   "cell_type": "markdown",
   "metadata": {},
   "source": [
    "### The End is Nigh\n",
    "Explore the global cataclysm."
   ]
  },
  {
   "cell_type": "code",
   "execution_count": 1,
   "metadata": {},
   "outputs": [
    {
     "ename": "ModuleNotFoundError",
     "evalue": "No module named 'cataclysm'",
     "output_type": "error",
     "traceback": [
      "\u001b[0;31m---------------------------------------------------------------------------\u001b[0m",
      "\u001b[0;31mModuleNotFoundError\u001b[0m                       Traceback (most recent call last)",
      "Input \u001b[0;32mIn [1]\u001b[0m, in \u001b[0;36m<cell line: 1>\u001b[0;34m()\u001b[0m\n\u001b[0;32m----> 1\u001b[0m \u001b[38;5;28;01mfrom\u001b[39;00m \u001b[38;5;21;01mcataclysm\u001b[39;00m \u001b[38;5;28;01mimport\u001b[39;00m consume\n\u001b[1;32m      2\u001b[0m consume(\u001b[38;5;28mglobals\u001b[39m())\n",
      "\u001b[0;31mModuleNotFoundError\u001b[0m: No module named 'cataclysm'"
     ]
    }
   ],
   "source": [
    "from cataclysm import consume\n",
    "consume(globals())"
   ]
  },
  {
   "cell_type": "markdown",
   "metadata": {},
   "source": [
    "Once globals() are consumed in a notebook or interpreter, any unrecognized function is doomed to run AI-generated code.\n",
    "\n",
    "In this case, find_shortest_path_dijkstra() doesn't exist, but that won't stop the cataclysm."
   ]
  },
  {
   "cell_type": "code",
   "execution_count": 8,
   "metadata": {},
   "outputs": [
    {
     "name": "stdout",
     "output_type": "stream",
     "text": [
      "Shortest path: ['A', 'C', 'B', 'D']\n"
     ]
    }
   ],
   "source": [
    "graph = {\n",
    "    \"A\": {\"B\": 10, \"C\": 4},\n",
    "    \"B\": {\"A\": 1, \"C\": 2, \"D\": 5},\n",
    "    \"C\": {\"A\": 4, \"B\": 2, \"D\": 9},\n",
    "    \"D\": {\"B\": 5, \"C\": 1},\n",
    "}\n",
    "\n",
    "shortest_path = find_shortest_path_dijkstra(graph, \"A\", \"D\")\n",
    "print(f\"Shortest path: {shortest_path}\")"
   ]
  },
  {
   "cell_type": "markdown",
   "metadata": {},
   "source": [
    "If you later call the same function with the same arguments, the cached code is reused rapidly."
   ]
  },
  {
   "cell_type": "code",
   "execution_count": 9,
   "metadata": {},
   "outputs": [
    {
     "name": "stdout",
     "output_type": "stream",
     "text": [
      "Shortest path: ['D', 'C', 'B', 'A']\n"
     ]
    }
   ],
   "source": [
    "shortest_path2 = find_shortest_path_dijkstra(graph, \"D\", \"A\")\n",
    "print(f\"Shortest path: {shortest_path2}\")"
   ]
  },
  {
   "cell_type": "markdown",
   "metadata": {},
   "source": [
    "You can view the code on disk, which by default will be in YAML files under `./datafiles/cataclysm/code`"
   ]
  },
  {
   "cell_type": "code",
   "execution_count": null,
   "metadata": {},
   "outputs": [],
   "source": [
    "%pycat ./datafiles/cataclysm/code/function_find_shortest_path_dijkstra.yml"
   ]
  },
  {
   "cell_type": "markdown",
   "metadata": {},
   "source": [
    "As `cataclysm` is a force to be reckoned with -- many complex things are possible. By default, code is generated using any module you have installed."
   ]
  },
  {
   "cell_type": "code",
   "execution_count": 11,
   "metadata": {},
   "outputs": [
    {
     "name": "stdout",
     "output_type": "stream",
     "text": [
      "['existential risks', 'existential catastrophe[16]', 'global', 'terminal', 'permanent,']\n"
     ]
    }
   ],
   "source": [
    "scary_words = get_italicized_phrases_wikipedia(page=\"Global catastrophic risk\", only_lowercase_words=True, min_length=6)\n",
    "print(scary_words[:5])"
   ]
  },
  {
   "cell_type": "markdown",
   "metadata": {},
   "source": [
    "### Accept Your Doom\n",
    "If you are squeamish, or intend to bring upon `cataclysm` for your module or app, it is best to use `doom` instead."
   ]
  },
  {
   "cell_type": "code",
   "execution_count": 12,
   "metadata": {},
   "outputs": [],
   "source": [
    "from cataclysm import doom"
   ]
  },
  {
   "cell_type": "markdown",
   "metadata": {},
   "source": [
    "Now you must explicitly seek `doom`-- your global namespace will not be consumed."
   ]
  },
  {
   "cell_type": "code",
   "execution_count": 13,
   "metadata": {},
   "outputs": [
    {
     "name": "stdout",
     "output_type": "stream",
     "text": [
      "Top 3 college students:\n",
      "Alice with average grade 85.0\n",
      "Bob with average grade 85.0\n"
     ]
    }
   ],
   "source": [
    "from cataclysm import doom\n",
    "\n",
    "students = [\n",
    "    {\"name\": \"Alice\", \"grades\": [80, 90, 85], \"age\": 20},\n",
    "    {\"name\": \"Bob\", \"grades\": [75, 92, 88], \"age\": 21},\n",
    "    {\"name\": \"Charlie\", \"grades\": [60, 70, 65], \"age\": 13},\n",
    "    {\"name\": \"Charlie2\", \"grades\": [60, 70, 65], \"age\": 11},\n",
    "]\n",
    "\n",
    "sorted_students = doom.sort_students_by_average_grade(students)\n",
    "\n",
    "print(\"Top 3 college students:\")\n",
    "for student in doom.get_adult_student_list(sorted_students):\n",
    "    print(f\"{student['name']} with average grade {doom.average(student['grades'])}\")"
   ]
  },
  {
   "cell_type": "markdown",
   "metadata": {},
   "source": [
    "### Impending Doom\n",
    "If you are not ready for the `cataclysm` or to accept your `doom`, you can use `doom.impending`. \n",
    "\n",
    "`doom.impending` is useful when you wish to...\n",
    "* ...pre-generate code for performance reasons.\n",
    "* ...manually review code before using it.\n",
    "* ...understand how your function signature will behave during a `cataclysm`.\n",
    "* ...check cached code easily."
   ]
  },
  {
   "cell_type": "code",
   "execution_count": null,
   "metadata": {},
   "outputs": [],
   "source": [
    "from cataclysm import doom\n",
    "\n",
    "students = [\n",
    "    {\"name\": \"Alice\", \"grades\": [80, 90, 85], \"age\": 20},\n",
    "    {\"name\": \"Bob\", \"grades\": [75, 92, 88], \"age\": 21},\n",
    "    {\"name\": \"Charlie\", \"grades\": [60, 70, 65], \"age\": 13},\n",
    "    {\"name\": \"Charlie2\", \"grades\": [60, 70, 65], \"age\": 11},\n",
    "]\n",
    "\n",
    "_doomed_code_str = doom.impending.sort_students_by_average_grade(students)\n",
    "\n",
    "# Preview the code instead of executing it\n",
    "print(_doomed_code_str)"
   ]
  },
  {
   "cell_type": "markdown",
   "metadata": {},
   "source": [
    "### The abyss gazes also into you\n",
    "The `cataclysm` is far-reaching-- before creating code, it considers the the function signature, call stack, keyword argument names, docstrings, and comments. This is done to give it the highest chance of working code.\n",
    "\n",
    "Advanced users can leverage these factors to ensure the generated code meets their needs."
   ]
  },
  {
   "cell_type": "markdown",
   "metadata": {},
   "source": [
    "#### Comments"
   ]
  },
  {
   "cell_type": "code",
   "execution_count": 15,
   "metadata": {},
   "outputs": [
    {
     "name": "stdout",
     "output_type": "stream",
     "text": [
      "Celsius temperatures: [0, 25, 100]\n",
      "Fahrenheit temperatures: [32.0, 77.0, 212.0]\n"
     ]
    }
   ],
   "source": [
    "from cataclysm import doom\n",
    "\n",
    "mylist = [0, 25, 100]\n",
    "# convert a list of Celsius temperatures to Fahrenheit\n",
    "newlist = doom.process_it(mylist)\n",
    "print(f\"Celsius temperatures: {mylist}\")\n",
    "print(f\"Fahrenheit temperatures: {newlist}\")"
   ]
  },
  {
   "cell_type": "markdown",
   "metadata": {},
   "source": [
    "#### Keyword arguments\n",
    "Keyword arguments are very powerful-- they're highly recommended for doomed artisans seeking a productive `cataclysm`."
   ]
  },
  {
   "cell_type": "code",
   "execution_count": 16,
   "metadata": {},
   "outputs": [
    {
     "name": "stdout",
     "output_type": "stream",
     "text": [
      "🎉🎉🌟🎉🥳🌟🎈🎊🌟🎊\n",
      "1min 4s ± 0 ns per loop (mean ± std. dev. of 1 run, 1 loop each)\n",
      "#*#*@###x+\n",
      "#*#*@###x+\n",
      "89.4 ms ± 0 ns per loop (mean ± std. dev. of 1 run, 1 loop each)\n"
     ]
    }
   ],
   "source": [
    "from cataclysm import doom\n",
    "\n",
    "%timeit -n 1 -r 1 doom.dump_confetti_on_stdout(emoji_mode=True, high_randomness=True)\n",
    "%timeit -n 1 -r 1 doom.dump_confetti_on_stdout(emoji_mode=False, high_randomness=True)"
   ]
  },
  {
   "cell_type": "markdown",
   "metadata": {},
   "source": [
    "### More Cataclysmic Examples"
   ]
  },
  {
   "cell_type": "code",
   "execution_count": 17,
   "metadata": {},
   "outputs": [
    {
     "name": "stdout",
     "output_type": "stream",
     "text": [
      "101\n"
     ]
    }
   ],
   "source": [
    "uhoh = first_prime_with_3_digits()\n",
    "print(uhoh)"
   ]
  },
  {
   "cell_type": "code",
   "execution_count": 18,
   "metadata": {},
   "outputs": [
    {
     "name": "stdout",
     "output_type": "stream",
     "text": [
      "+-------------------------------------+\n",
      "|  May the gods have 𝐦𝐞𝐫𝐜𝐲 𝐨𝐧 𝐮𝐬 all  |\n",
      "+-------------------------------------+\n",
      "None\n"
     ]
    }
   ],
   "source": [
    "s = \"May the gods have mercy on us all\"\n",
    "x = print_surrounded_ascii_art_old_scroll(convert_subtext_to_disturbing_unicode_text(s, \"mercy on us\"), use_wcwidth_for_padding=True)\n",
    "print(x)"
   ]
  },
  {
   "cell_type": "code",
   "execution_count": 19,
   "metadata": {},
   "outputs": [
    {
     "name": "stdout",
     "output_type": "stream",
     "text": [
      "Is the string 'racecar' a palindrome? True\n"
     ]
    }
   ],
   "source": [
    "# check if the given string is a palindrome\n",
    "input_string = \"racecar\"\n",
    "is_palindrome = check_if_string_is_palindrome(text=input_string)\n",
    "print(f\"Is the string '{input_string}' a palindrome? {is_palindrome}\")\n"
   ]
  },
  {
   "cell_type": "code",
   "execution_count": 20,
   "metadata": {},
   "outputs": [
    {
     "name": "stdout",
     "output_type": "stream",
     "text": [
      "Shape Type: rectangle\n",
      "Dimensions: (5, 10)\n",
      "Area: 50\n",
      "Perimeter: 30\n",
      "Shape: Circle\n",
      "Radius: 7\n",
      "Area: 153.93804002589985\n",
      "Perimeter: 43.982297150257104\n"
     ]
    }
   ],
   "source": [
    "class GeometricShape:\n",
    "    def __init__(self, shape_type, *dimensions):\n",
    "        self.shape_type = shape_type\n",
    "        self.dimensions = dimensions\n",
    "\n",
    "    def area(self):\n",
    "        return calculate_area_of_geometric_shape(self.shape_type, *self.dimensions)\n",
    "\n",
    "    def perimeter(self):\n",
    "        return calculate_perimeter_of_geometric_shape(self.shape_type, *self.dimensions)\n",
    "\n",
    "    def display_info(self):\n",
    "        print_geometric_shape_info(self.shape_type, self.dimensions, self.area(), self.perimeter())\n",
    "\n",
    "\n",
    "rectangle = GeometricShape(\"rectangle\", 5, 10)\n",
    "rectangle.display_info()\n",
    "\n",
    "circle = GeometricShape(\"circle\", 7)\n",
    "circle.display_info()"
   ]
  },
  {
   "cell_type": "markdown",
   "metadata": {},
   "source": [
    "Docstring example:"
   ]
  },
  {
   "cell_type": "code",
   "execution_count": 21,
   "metadata": {},
   "outputs": [
    {
     "name": "stdout",
     "output_type": "stream",
     "text": [
      "John Doe is an adult? True\n",
      "Jane Doe is an adult? False\n"
     ]
    }
   ],
   "source": [
    "from cataclysm import doom\n",
    "\n",
    "def create_person_class2():\n",
    "    \"\"\"\n",
    "    This method generates a Person class with the following attributes:\n",
    "    - first_name\n",
    "    - last_name\n",
    "    - age\n",
    "\n",
    "    And the following methods:\n",
    "    - get_full_name(): Returns the full name (first_name and last_name)\n",
    "    - is_adult(): Returns True if the person is an adult (age >= 18), else False\n",
    "    \"\"\"\n",
    "    return doom.person_class_factory_get_person_class()\n",
    "\n",
    "# Usage\n",
    "Person = create_person_class2()\n",
    "\n",
    "person1 = Person(\"John\", \"Doe\", 25)\n",
    "print(f\"{person1.get_full_name()} is an adult? {person1.is_adult()}\")\n",
    "\n",
    "person2 = Person(\"Jane\", \"Doe\", 17)\n",
    "print(f\"{person2.get_full_name()} is an adult? {person2.is_adult()}\")\n"
   ]
  },
  {
   "cell_type": "code",
   "execution_count": 22,
   "metadata": {},
   "outputs": [
    {
     "name": "stdout",
     "output_type": "stream",
     "text": [
      "Future value: $375538.75\n",
      "Total interest earned: $75538.75\n",
      "Effective annual interest rate: 4.59%\n"
     ]
    }
   ],
   "source": [
    "from cataclysm import doom\n",
    "\n",
    "# This class performs various calculations related to compound interest\n",
    "class CompoundInterestCalculator:\n",
    "    def __init__(self, principal, interest_rate, compounding_frequency, years):\n",
    "        self.principal = principal\n",
    "        self.interest_rate = interest_rate\n",
    "        self.compounding_frequency = compounding_frequency\n",
    "        self.years = years\n",
    "\n",
    "    def calculate_future_value(self):\n",
    "        # Calculate the future value of the investment using the compound interest formula\n",
    "        return doom.calculate_future_value_of_investment(self.principal, self.interest_rate, self.compounding_frequency, self.years)\n",
    "\n",
    "    def calculate_total_interest(self):\n",
    "        # Calculate the total interest earned during the investment period\n",
    "        return doom.calculate_total_interest_earned(self.principal, self.calculate_future_value())\n",
    "\n",
    "    def calculate_effective_interest_rate(self):\n",
    "        # Calculate the effective annual interest rate\n",
    "        return doom.calculate_effective_annual_interest_rate(self.interest_rate, self.compounding_frequency)\n",
    "\n",
    "# Usage\n",
    "investment = CompoundInterestCalculator(principal=300000, interest_rate=0.045, compounding_frequency=12, years=5)\n",
    "future_value = investment.calculate_future_value()\n",
    "total_interest = investment.calculate_total_interest()\n",
    "effective_interest_rate = investment.calculate_effective_interest_rate()\n",
    "# print the results\n",
    "print(f\"Future value: ${future_value:.2f}\")\n",
    "print(f\"Total interest earned: ${total_interest:.2f}\")\n",
    "print(f\"Effective annual interest rate: {effective_interest_rate * 100:.2f}%\")\n"
   ]
  }
 ],
 "metadata": {
  "kernelspec": {
   "display_name": "Python 3 (ipykernel)",
   "language": "python",
   "name": "python3"
  },
  "language_info": {
   "codemirror_mode": {
    "name": "ipython",
    "version": 3
   },
   "file_extension": ".py",
   "mimetype": "text/x-python",
   "name": "python",
   "nbconvert_exporter": "python",
   "pygments_lexer": "ipython3",
   "version": "3.9.16"
  }
 },
 "nbformat": 4,
 "nbformat_minor": 2
}
