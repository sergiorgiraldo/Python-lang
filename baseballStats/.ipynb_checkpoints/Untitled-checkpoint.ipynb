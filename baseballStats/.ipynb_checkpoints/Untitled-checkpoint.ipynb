{
 "cells": [
  {
   "cell_type": "code",
   "execution_count": 2,
   "metadata": {},
   "outputs": [],
   "source": [
    "import numpy as np\n",
    "import pandas as pd"
   ]
  },
  {
   "cell_type": "code",
   "execution_count": 13,
   "metadata": {},
   "outputs": [
    {
     "data": {
      "text/plain": [
       "array([['aardsda01', '2004', '1', ..., '', '', ''],\n",
       "       ['aardsda01', '2006', '1', ..., '', '', ''],\n",
       "       ['aardsda01', '2007', '1', ..., '', '', ''],\n",
       "       ...,\n",
       "       ['zuverge01', '1957', '1', ..., '', '', ''],\n",
       "       ['zuverge01', '1958', '1', ..., '', '', ''],\n",
       "       ['zuverge01', '1959', '1', ..., '', '', '']], dtype='<U9')"
      ]
     },
     "execution_count": 13,
     "metadata": {},
     "output_type": "execute_result"
    }
   ],
   "source": [
    "data = np.loadtxt(\"C:/Users/sgiraldo/src/Python-lang/baseballStats/pitching.csv\", delimiter=',', dtype='str',skiprows=1)\n",
    "\n",
    "data\n",
    "\n",
    "## not good, it imports as an array"
   ]
  }
 ],
 "metadata": {
  "kernelspec": {
   "display_name": "Python 3",
   "language": "python",
   "name": "python3"
  },
  "language_info": {
   "codemirror_mode": {
    "name": "ipython",
    "version": 3
   },
   "file_extension": ".py",
   "mimetype": "text/x-python",
   "name": "python",
   "nbconvert_exporter": "python",
   "pygments_lexer": "ipython3",
   "version": "3.6.5"
  }
 },
 "nbformat": 4,
 "nbformat_minor": 2
}
