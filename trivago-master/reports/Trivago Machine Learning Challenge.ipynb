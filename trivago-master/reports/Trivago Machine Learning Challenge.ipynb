{
 "cells": [
  {
   "cell_type": "markdown",
   "metadata": {},
   "source": [
    "# Trivago Machine Learning Challenge\n",
    "\n",
    "<br>\n",
    "\n",
    "\\* I developed this report using the CRISP-DM methodology.\n",
    "\n",
    "### Business Understanding\n",
    "\n",
    "Trivago is a German multinational technology company specializing in internet-related services and products in the hotel, lodging and meta search fields. Trivago was the first hotel search engine in Germany. As of 2012, it was one of the fastest growing companies in Germany, with profitability doubling since 2008.\n",
    "\n",
    "<img src = \"img/trivago_logo.png\">\n",
    "\n",
    "In this report we will analyze the dataset provided from Trivago with information from 900k+ sessions and build a model to predict the number of hits per session (number of interactions with the trivago page during the session) based on the session information.\n",
    "\n",
    "### Data Understanding\n",
    "\n",
    "The metadata is as follows:\n",
    "\n",
    "* row_num: a number uniquely identifying each row.\n",
    "* locale: the platform of the session.\n",
    "* day_of_week: Mon-Fri, the day of the week of the session.\n",
    "* hour_of_day: 00-23, the hour of the day of the session.\n",
    "* agent_id: the device used for the session.\n",
    "* entry_page: describes the landing page of the session.\n",
    "* path_id_set: shows all the locations that were visited during the session.\n",
    "* traffic_type: indicates the channel the user cane through eg. search engine, email, ...\n",
    "* session_duration: the duration in seconds of the session.\n",
    "* hits: the number of interactions with the trivago page during the session.\n",
    "\n",
    "So, first we will import the dataset (a .csv file)."
   ]
  },
  {
   "cell_type": "code",
   "execution_count": 1,
   "metadata": {},
   "outputs": [
    {
     "name": "stderr",
     "output_type": "stream",
     "text": [
      "/Library/Frameworks/Python.framework/Versions/3.7/lib/python3.7/site-packages/sklearn/ensemble/weight_boosting.py:29: DeprecationWarning: numpy.core.umath_tests is an internal NumPy module and should not be imported. It will be removed in a future NumPy release.\n",
      "  from numpy.core.umath_tests import inner1d\n"
     ]
    }
   ],
   "source": [
    "import pandas as pd\n",
    "import matplotlib.pyplot as plt\n",
    "import numpy as np\n",
    "import re\n",
    "import datetime\n",
    "\n",
    "from sklearn.model_selection import train_test_split\n",
    "from sklearn.metrics import mean_squared_error\n",
    "from sklearn import model_selection\n",
    "\n",
    "from sklearn.linear_model import LinearRegression\n",
    "from sklearn.ensemble import RandomForestRegressor\n",
    "from sklearn.svm import SVR\n",
    "from sklearn.ensemble import GradientBoostingRegressor"
   ]
  },
  {
   "cell_type": "code",
   "execution_count": 2,
   "metadata": {},
   "outputs": [],
   "source": [
    "dataset = pd.read_csv('../database/ML Data Scientist Case Study Data.csv', ';')"
   ]
  },
  {
   "cell_type": "markdown",
   "metadata": {},
   "source": [
    "We validate the number of rows of the dataset."
   ]
  },
  {
   "cell_type": "code",
   "execution_count": 3,
   "metadata": {},
   "outputs": [
    {
     "data": {
      "text/plain": [
       "row_num              988681\n",
       "locale               988681\n",
       "day_of_week          988681\n",
       "hour_of_day          988681\n",
       "agent_id             988681\n",
       "entry_page           988681\n",
       "path_id_set          983792\n",
       "traffic_type         988681\n",
       "session_durantion    988681\n",
       "hits                 988681\n",
       "dtype: int64"
      ]
     },
     "execution_count": 3,
     "metadata": {},
     "output_type": "execute_result"
    }
   ],
   "source": [
    "dataset.count()"
   ]
  },
  {
   "cell_type": "markdown",
   "metadata": {},
   "source": [
    "It seems that the import process worked fine and the 'path_id_set' has some NAs.\n",
    "\n",
    "Then, we take a sneak peak on the dataset."
   ]
  },
  {
   "cell_type": "code",
   "execution_count": 4,
   "metadata": {},
   "outputs": [
    {
     "data": {
      "text/html": [
       "<div>\n",
       "<style scoped>\n",
       "    .dataframe tbody tr th:only-of-type {\n",
       "        vertical-align: middle;\n",
       "    }\n",
       "\n",
       "    .dataframe tbody tr th {\n",
       "        vertical-align: top;\n",
       "    }\n",
       "\n",
       "    .dataframe thead th {\n",
       "        text-align: right;\n",
       "    }\n",
       "</style>\n",
       "<table border=\"1\" class=\"dataframe\">\n",
       "  <thead>\n",
       "    <tr style=\"text-align: right;\">\n",
       "      <th></th>\n",
       "      <th>row_num</th>\n",
       "      <th>locale</th>\n",
       "      <th>day_of_week</th>\n",
       "      <th>hour_of_day</th>\n",
       "      <th>agent_id</th>\n",
       "      <th>entry_page</th>\n",
       "      <th>path_id_set</th>\n",
       "      <th>traffic_type</th>\n",
       "      <th>session_durantion</th>\n",
       "      <th>hits</th>\n",
       "    </tr>\n",
       "  </thead>\n",
       "  <tbody>\n",
       "    <tr>\n",
       "      <th>0</th>\n",
       "      <td>988681</td>\n",
       "      <td>L6</td>\n",
       "      <td>Monday</td>\n",
       "      <td>17</td>\n",
       "      <td>1</td>\n",
       "      <td>2111</td>\n",
       "      <td>31672;0</td>\n",
       "      <td>6</td>\n",
       "      <td>7037</td>\n",
       "      <td>\\N</td>\n",
       "    </tr>\n",
       "    <tr>\n",
       "      <th>1</th>\n",
       "      <td>988680</td>\n",
       "      <td>L2</td>\n",
       "      <td>Thursday</td>\n",
       "      <td>22</td>\n",
       "      <td>10</td>\n",
       "      <td>2113</td>\n",
       "      <td>31965;0</td>\n",
       "      <td>2</td>\n",
       "      <td>49</td>\n",
       "      <td>14</td>\n",
       "    </tr>\n",
       "    <tr>\n",
       "      <th>2</th>\n",
       "      <td>988679</td>\n",
       "      <td>L4</td>\n",
       "      <td>Saturday</td>\n",
       "      <td>21</td>\n",
       "      <td>2</td>\n",
       "      <td>2100</td>\n",
       "      <td>0;78464</td>\n",
       "      <td>1</td>\n",
       "      <td>1892</td>\n",
       "      <td>14</td>\n",
       "    </tr>\n",
       "    <tr>\n",
       "      <th>3</th>\n",
       "      <td>988678</td>\n",
       "      <td>L3</td>\n",
       "      <td>Saturday</td>\n",
       "      <td>19</td>\n",
       "      <td>8</td>\n",
       "      <td>2113</td>\n",
       "      <td>51462</td>\n",
       "      <td>6</td>\n",
       "      <td>0</td>\n",
       "      <td>1</td>\n",
       "    </tr>\n",
       "    <tr>\n",
       "      <th>4</th>\n",
       "      <td>988677</td>\n",
       "      <td>L2</td>\n",
       "      <td>Tuesday</td>\n",
       "      <td>6</td>\n",
       "      <td>10</td>\n",
       "      <td>2116</td>\n",
       "      <td>31931;0</td>\n",
       "      <td>1</td>\n",
       "      <td>2</td>\n",
       "      <td>3</td>\n",
       "    </tr>\n",
       "  </tbody>\n",
       "</table>\n",
       "</div>"
      ],
      "text/plain": [
       "   row_num locale day_of_week  hour_of_day  agent_id  entry_page path_id_set  \\\n",
       "0   988681     L6      Monday           17         1        2111     31672;0   \n",
       "1   988680     L2    Thursday           22        10        2113     31965;0   \n",
       "2   988679     L4    Saturday           21         2        2100     0;78464   \n",
       "3   988678     L3    Saturday           19         8        2113       51462   \n",
       "4   988677     L2     Tuesday            6        10        2116     31931;0   \n",
       "\n",
       "   traffic_type session_durantion hits  \n",
       "0             6              7037   \\N  \n",
       "1             2                49   14  \n",
       "2             1              1892   14  \n",
       "3             6                 0    1  \n",
       "4             1                 2    3  "
      ]
     },
     "execution_count": 4,
     "metadata": {},
     "output_type": "execute_result"
    }
   ],
   "source": [
    "dataset.head()"
   ]
  },
  {
   "cell_type": "markdown",
   "metadata": {},
   "source": [
    "As we can see, there is a typying mismatch on the feature 'session_duration', so we will treat the rest of the report as it is ('session_durantion').\n",
    "\n",
    "We have to transform continuous features that are strings in numeric."
   ]
  },
  {
   "cell_type": "code",
   "execution_count": 5,
   "metadata": {},
   "outputs": [],
   "source": [
    "dataset['hits'] = pd.to_numeric(dataset['hits'], errors = 'coerce')\n",
    "dataset['session_durantion'] = pd.to_numeric(dataset['session_durantion'], errors = 'coerce')"
   ]
  },
  {
   "cell_type": "markdown",
   "metadata": {},
   "source": [
    " And now let's take a look at the distribution of the data based on the average of the target feature."
   ]
  },
  {
   "cell_type": "code",
   "execution_count": 6,
   "metadata": {},
   "outputs": [],
   "source": [
    "# create function to exhibit bar plot\n",
    "def plot_bar_x(df, feature, ylabel = 'Average of hits'):\n",
    "    plt.bar(df.index, df)\n",
    "    plt.ylabel(ylabel, fontsize = 10)\n",
    "    plt.xticks(df.index, df.index, fontsize = 10, rotation = 30)\n",
    "    plt.title('Feature: ' + feature)\n",
    "    plt.show()"
   ]
  },
  {
   "cell_type": "code",
   "execution_count": 7,
   "metadata": {},
   "outputs": [
    {
     "data": {
      "image/png": "[encoded data removed]",
      "text/plain": [
       "<Figure size 432x288 with 1 Axes>"
      ]
     },
     "metadata": {},
     "output_type": "display_data"
    }
   ],
   "source": [
    "# locale\n",
    "plot_bar_x(dataset.groupby(['locale'])['hits'].mean(), 'locale')"
   ]
  },
  {
   "cell_type": "code",
   "execution_count": 8,
   "metadata": {},
   "outputs": [
    {
     "data": {
      "image/png": "[encoded data removed]",
      "text/plain": [
       "<Figure size 432x288 with 1 Axes>"
      ]
     },
     "metadata": {},
     "output_type": "display_data"
    }
   ],
   "source": [
    "# day_of_week\n",
    "plot_bar_x(dataset.groupby(['day_of_week'])['hits'].mean(), 'day_of_week')"
   ]
  },
  {
   "cell_type": "code",
   "execution_count": 9,
   "metadata": {},
   "outputs": [
    {
     "data": {
      "image/png": "[encoded data removed]",
      "text/plain": [
       "<Figure size 432x288 with 1 Axes>"
      ]
     },
     "metadata": {},
     "output_type": "display_data"
    }
   ],
   "source": [
    "# hour_of_day\n",
    "plot_bar_x(dataset.groupby(['hour_of_day'])['hits'].mean(), 'hour_of_day')"
   ]
  },
  {
   "cell_type": "code",
   "execution_count": 10,
   "metadata": {},
   "outputs": [
    {
     "data": {
      "image/png": "[encoded data removed]",
      "text/plain": [
       "<Figure size 432x288 with 1 Axes>"
      ]
     },
     "metadata": {},
     "output_type": "display_data"
    }
   ],
   "source": [
    "# agent_id\n",
    "plot_bar_x(dataset.groupby(['agent_id'])['hits'].mean(), 'agent_id')"
   ]
  },
  {
   "cell_type": "code",
   "execution_count": 11,
   "metadata": {},
   "outputs": [
    {
     "data": {
      "image/png": "[encoded data removed]",
      "text/plain": [
       "<Figure size 432x288 with 1 Axes>"
      ]
     },
     "metadata": {},
     "output_type": "display_data"
    }
   ],
   "source": [
    "# entry_page\n",
    "plot_bar_x(dataset.groupby(['entry_page'])['hits'].mean(), 'entry_page')"
   ]
  },
  {
   "cell_type": "code",
   "execution_count": 12,
   "metadata": {},
   "outputs": [
    {
     "data": {
      "image/png": "[encoded data removed]",
      "text/plain": [
       "<Figure size 432x288 with 1 Axes>"
      ]
     },
     "metadata": {},
     "output_type": "display_data"
    }
   ],
   "source": [
    "# traffic_type\n",
    "plot_bar_x(dataset.groupby(['traffic_type'])['hits'].mean(), 'traffic_type')"
   ]
  },
  {
   "cell_type": "code",
   "execution_count": 13,
   "metadata": {},
   "outputs": [
    {
     "data": {
      "image/png": "[encoded data removed]",
      "text/plain": [
       "<Figure size 432x288 with 1 Axes>"
      ]
     },
     "metadata": {},
     "output_type": "display_data"
    }
   ],
   "source": [
    "# session_durantion\n",
    "dataset['session_durantion_minute'] = dataset['session_durantion']/60\n",
    "\n",
    "session_duration_min = dataset['session_durantion_minute'].min()\n",
    "session_duration_max = dataset['session_durantion_minute'].max()\n",
    "interval = (session_duration_max - session_duration_min)/10\n",
    "session_duration_column = dataset['session_durantion_minute']\n",
    "\n",
    "conditions = [\n",
    "    (session_duration_column >= session_duration_min) & (session_duration_column < session_duration_min + interval),\n",
    "    (session_duration_column >= session_duration_min + interval) & (session_duration_column < session_duration_min + 2*interval),\n",
    "    (session_duration_column >= session_duration_min + 2*interval) & (session_duration_column < session_duration_min + 3*interval),\n",
    "    (session_duration_column >= session_duration_min + 3*interval) & (session_duration_column < session_duration_min + 4*interval),\n",
    "    (session_duration_column >= session_duration_min + 4*interval) & (session_duration_column < session_duration_min + 5*interval),\n",
    "    (session_duration_column >= session_duration_min + 5*interval) & (session_duration_column < session_duration_min + 6*interval),\n",
    "    (session_duration_column >= session_duration_min + 6*interval) & (session_duration_column < session_duration_min + 7*interval),\n",
    "    (session_duration_column >= session_duration_min + 7*interval) & (session_duration_column < session_duration_min + 8*interval),\n",
    "    (session_duration_column >= session_duration_min + 8*interval) & (session_duration_column < session_duration_min + 9*interval),\n",
    "    (session_duration_column >= session_duration_min + 9*interval) & (session_duration_column <= session_duration_max)\n",
    "]\n",
    "\n",
    "choices = [\n",
    "    '01 - [' + str(round(session_duration_min + 0*interval)) + ' ; ' + str(round(session_duration_min + 1*interval)) + '[',\n",
    "    '02 - [' + str(round(session_duration_min + 1*interval)) + ' ; ' + str(round(session_duration_min + 2*interval)) + '[',\n",
    "    '03 - [' + str(round(session_duration_min + 2*interval)) + ' ; ' + str(round(session_duration_min + 3*interval)) + '[',\n",
    "    '04 - [' + str(round(session_duration_min + 3*interval)) + ' ; ' + str(round(session_duration_min + 4*interval)) + '[',\n",
    "    '05 - [' + str(round(session_duration_min + 4*interval)) + ' ; ' + str(round(session_duration_min + 5*interval)) + '[',\n",
    "    '06 - [' + str(round(session_duration_min + 5*interval)) + ' ; ' + str(round(session_duration_min + 6*interval)) + '[',\n",
    "    '07 - [' + str(round(session_duration_min + 6*interval)) + ' ; ' + str(round(session_duration_min + 7*interval)) + '[',\n",
    "    '08 - [' + str(round(session_duration_min + 7*interval)) + ' ; ' + str(round(session_duration_min + 8*interval)) + '[',\n",
    "    '09 - [' + str(round(session_duration_min + 8*interval)) + ' ; ' + str(round(session_duration_min + 9*interval)) + '[',\n",
    "    '10 - [' + str(round(session_duration_min + 9*interval)) + ' ; ' + str(round(session_duration_min + 10*interval)) + ']'\n",
    "]\n",
    "\n",
    "dataset['session_durantion_minute_band'] = np.select(conditions, choices)\n",
    "\n",
    "plot_bar_x(dataset.groupby(['session_durantion_minute_band'])['hits'].mean(), 'session_durantion_minute')"
   ]
  },
  {
   "cell_type": "code",
   "execution_count": 14,
   "metadata": {},
   "outputs": [
    {
     "data": {
      "image/png": "[encoded data removed]",
      "text/plain": [
       "<Figure size 432x288 with 1 Axes>"
      ]
     },
     "metadata": {},
     "output_type": "display_data"
    },
    {
     "data": {
      "image/png": "[encoded data removed]",
      "text/plain": [
       "<Figure size 432x288 with 1 Axes>"
      ]
     },
     "metadata": {},
     "output_type": "display_data"
    }
   ],
   "source": [
    "# hits\n",
    "temp = dataset['hits'].value_counts(normalize = True, bins = 10)\n",
    "temp.index = temp.index.to_series().astype(str)\n",
    "plot_bar_x(temp, 'hits', 'Quantity of sessions')\n",
    "\n",
    "temp = dataset['hits'].loc[dataset['hits'] < 419].value_counts(normalize = True, bins = 10)\n",
    "temp.index = temp.index.to_series().astype(str)\n",
    "plot_bar_x(temp, 'hits, less than 419 hits', 'Quantity of sessions')"
   ]
  },
  {
   "cell_type": "markdown",
   "metadata": {},
   "source": [
    "From the graphs above we can infer about the dataset that:\n",
    "\n",
    "* category 'L5' from feature 'locale' has an average of hits a little bit higher than the rest of the categories\n",
    "* category '1' from feature 'traffic_type' has an average of hits higher than the rest of the categories\n",
    "* there is a discrepancy on the categories of 'agent_id', what indicates that this feature might be good\n",
    "* only a few categories of 'entry_page' has relevant average of hits\n",
    "* 'session_durantion_minute' between 0 and 144 minutes has a high average of hits\n",
    "* most sessions are concentrated on the band of 0 to 42 hits\n",
    "\n",
    "### Data Preparation\n",
    "\n",
    "From all features shown above I could think about creating one feature:\n",
    "\n",
    "* path_length (continuous): count how many paths id were visited from 'path_id_set'"
   ]
  },
  {
   "cell_type": "code",
   "execution_count": 15,
   "metadata": {},
   "outputs": [],
   "source": [
    "dataset['path_length'] = dataset['path_id_set'].apply(lambda x: len(re.sub('[0-9]', '', str(x))) + 1)"
   ]
  },
  {
   "cell_type": "markdown",
   "metadata": {},
   "source": [
    "All the scikit-learn models don't accept discrete features in the format of strings and continuous features with NaN, so:\n",
    "\n",
    "* we have to transform discrete features on binaries (one new column for each category of the feature)\n",
    "* we have to replace NaN for zero"
   ]
  },
  {
   "cell_type": "code",
   "execution_count": 16,
   "metadata": {},
   "outputs": [
    {
     "data": {
      "text/html": [
       "<div>\n",
       "<style scoped>\n",
       "    .dataframe tbody tr th:only-of-type {\n",
       "        vertical-align: middle;\n",
       "    }\n",
       "\n",
       "    .dataframe tbody tr th {\n",
       "        vertical-align: top;\n",
       "    }\n",
       "\n",
       "    .dataframe thead th {\n",
       "        text-align: right;\n",
       "    }\n",
       "</style>\n",
       "<table border=\"1\" class=\"dataframe\">\n",
       "  <thead>\n",
       "    <tr style=\"text-align: right;\">\n",
       "      <th></th>\n",
       "      <th>row_num</th>\n",
       "      <th>locale</th>\n",
       "      <th>day_of_week</th>\n",
       "      <th>hour_of_day</th>\n",
       "      <th>agent_id</th>\n",
       "      <th>entry_page</th>\n",
       "      <th>path_id_set</th>\n",
       "      <th>traffic_type</th>\n",
       "      <th>session_durantion</th>\n",
       "      <th>hits</th>\n",
       "      <th>...</th>\n",
       "      <th>agent_id_13</th>\n",
       "      <th>agent_id_14</th>\n",
       "      <th>agent_id_15</th>\n",
       "      <th>traffic_type_1</th>\n",
       "      <th>traffic_type_2</th>\n",
       "      <th>traffic_type_3</th>\n",
       "      <th>traffic_type_4</th>\n",
       "      <th>traffic_type_6</th>\n",
       "      <th>traffic_type_7</th>\n",
       "      <th>traffic_type_10</th>\n",
       "    </tr>\n",
       "  </thead>\n",
       "  <tbody>\n",
       "    <tr>\n",
       "      <th>0</th>\n",
       "      <td>988681</td>\n",
       "      <td>L6</td>\n",
       "      <td>Monday</td>\n",
       "      <td>17</td>\n",
       "      <td>1</td>\n",
       "      <td>2111</td>\n",
       "      <td>31672;0</td>\n",
       "      <td>6</td>\n",
       "      <td>7037.0</td>\n",
       "      <td>NaN</td>\n",
       "      <td>...</td>\n",
       "      <td>0</td>\n",
       "      <td>0</td>\n",
       "      <td>0</td>\n",
       "      <td>0</td>\n",
       "      <td>0</td>\n",
       "      <td>0</td>\n",
       "      <td>0</td>\n",
       "      <td>1</td>\n",
       "      <td>0</td>\n",
       "      <td>0</td>\n",
       "    </tr>\n",
       "    <tr>\n",
       "      <th>1</th>\n",
       "      <td>988680</td>\n",
       "      <td>L2</td>\n",
       "      <td>Thursday</td>\n",
       "      <td>22</td>\n",
       "      <td>10</td>\n",
       "      <td>2113</td>\n",
       "      <td>31965;0</td>\n",
       "      <td>2</td>\n",
       "      <td>49.0</td>\n",
       "      <td>14.0</td>\n",
       "      <td>...</td>\n",
       "      <td>0</td>\n",
       "      <td>0</td>\n",
       "      <td>0</td>\n",
       "      <td>0</td>\n",
       "      <td>1</td>\n",
       "      <td>0</td>\n",
       "      <td>0</td>\n",
       "      <td>0</td>\n",
       "      <td>0</td>\n",
       "      <td>0</td>\n",
       "    </tr>\n",
       "    <tr>\n",
       "      <th>2</th>\n",
       "      <td>988679</td>\n",
       "      <td>L4</td>\n",
       "      <td>Saturday</td>\n",
       "      <td>21</td>\n",
       "      <td>2</td>\n",
       "      <td>2100</td>\n",
       "      <td>0;78464</td>\n",
       "      <td>1</td>\n",
       "      <td>1892.0</td>\n",
       "      <td>14.0</td>\n",
       "      <td>...</td>\n",
       "      <td>0</td>\n",
       "      <td>0</td>\n",
       "      <td>0</td>\n",
       "      <td>1</td>\n",
       "      <td>0</td>\n",
       "      <td>0</td>\n",
       "      <td>0</td>\n",
       "      <td>0</td>\n",
       "      <td>0</td>\n",
       "      <td>0</td>\n",
       "    </tr>\n",
       "    <tr>\n",
       "      <th>3</th>\n",
       "      <td>988678</td>\n",
       "      <td>L3</td>\n",
       "      <td>Saturday</td>\n",
       "      <td>19</td>\n",
       "      <td>8</td>\n",
       "      <td>2113</td>\n",
       "      <td>51462</td>\n",
       "      <td>6</td>\n",
       "      <td>0.0</td>\n",
       "      <td>1.0</td>\n",
       "      <td>...</td>\n",
       "      <td>0</td>\n",
       "      <td>0</td>\n",
       "      <td>0</td>\n",
       "      <td>0</td>\n",
       "      <td>0</td>\n",
       "      <td>0</td>\n",
       "      <td>0</td>\n",
       "      <td>1</td>\n",
       "      <td>0</td>\n",
       "      <td>0</td>\n",
       "    </tr>\n",
       "    <tr>\n",
       "      <th>4</th>\n",
       "      <td>988677</td>\n",
       "      <td>L2</td>\n",
       "      <td>Tuesday</td>\n",
       "      <td>6</td>\n",
       "      <td>10</td>\n",
       "      <td>2116</td>\n",
       "      <td>31931;0</td>\n",
       "      <td>1</td>\n",
       "      <td>2.0</td>\n",
       "      <td>3.0</td>\n",
       "      <td>...</td>\n",
       "      <td>0</td>\n",
       "      <td>0</td>\n",
       "      <td>0</td>\n",
       "      <td>1</td>\n",
       "      <td>0</td>\n",
       "      <td>0</td>\n",
       "      <td>0</td>\n",
       "      <td>0</td>\n",
       "      <td>0</td>\n",
       "      <td>0</td>\n",
       "    </tr>\n",
       "  </tbody>\n",
       "</table>\n",
       "<p>5 rows × 73 columns</p>\n",
       "</div>"
      ],
      "text/plain": [
       "   row_num locale day_of_week  hour_of_day  agent_id  entry_page path_id_set  \\\n",
       "0   988681     L6      Monday           17         1        2111     31672;0   \n",
       "1   988680     L2    Thursday           22        10        2113     31965;0   \n",
       "2   988679     L4    Saturday           21         2        2100     0;78464   \n",
       "3   988678     L3    Saturday           19         8        2113       51462   \n",
       "4   988677     L2     Tuesday            6        10        2116     31931;0   \n",
       "\n",
       "   traffic_type  session_durantion  hits       ...         agent_id_13  \\\n",
       "0             6             7037.0   NaN       ...                   0   \n",
       "1             2               49.0  14.0       ...                   0   \n",
       "2             1             1892.0  14.0       ...                   0   \n",
       "3             6                0.0   1.0       ...                   0   \n",
       "4             1                2.0   3.0       ...                   0   \n",
       "\n",
       "  agent_id_14  agent_id_15  traffic_type_1  traffic_type_2  traffic_type_3  \\\n",
       "0           0            0               0               0               0   \n",
       "1           0            0               0               1               0   \n",
       "2           0            0               1               0               0   \n",
       "3           0            0               0               0               0   \n",
       "4           0            0               1               0               0   \n",
       "\n",
       "   traffic_type_4  traffic_type_6  traffic_type_7  traffic_type_10  \n",
       "0               0               1               0                0  \n",
       "1               0               0               0                0  \n",
       "2               0               0               0                0  \n",
       "3               0               1               0                0  \n",
       "4               0               0               0                0  \n",
       "\n",
       "[5 rows x 73 columns]"
      ]
     },
     "execution_count": 16,
     "metadata": {},
     "output_type": "execute_result"
    }
   ],
   "source": [
    "dataset = pd.concat([\n",
    "    dataset.reset_index(drop = True),\n",
    "    pd.get_dummies(dataset['locale'], prefix = 'locale'),\n",
    "    pd.get_dummies(dataset['day_of_week'], prefix = 'day_of_week'),\n",
    "    pd.get_dummies(dataset['hour_of_day'], prefix = 'hour_of_day'),\n",
    "    pd.get_dummies(dataset['agent_id'], prefix = 'agent_id'),\n",
    "    pd.get_dummies(dataset['traffic_type'], prefix = 'traffic_type')\n",
    "], axis = 1)\n",
    "\n",
    "dataset['session_durantion_minute'] = np.nan_to_num(dataset['session_durantion_minute'])\n",
    "\n",
    "dataset.head()"
   ]
  },
  {
   "cell_type": "markdown",
   "metadata": {},
   "source": [
    "Now that we have analyzed all features distribution from the dataset and created a few others, we can continue handling the data in order to separate the dataset on three datasets, and they are:\n",
    "\n",
    "* result_dataset (all the observations that were null on the 'hits' feature)\n",
    "* training_dataset (90% from the remaining observations)\n",
    "* test_dataset (10% from the remaining observations)\n",
    "\n",
    "I've used 90/10 for the training and test datasets because I'll use k-fold methodology to evaluate the models performance on the 'validation' dataset."
   ]
  },
  {
   "cell_type": "code",
   "execution_count": 17,
   "metadata": {},
   "outputs": [],
   "source": [
    "result_dataset = dataset.loc[dataset['hits'].isnull()]\n",
    "\n",
    "training_dataset, test_dataset = train_test_split(dataset.loc[~dataset['hits'].isnull()],\n",
    "                                                  test_size = 0.1,\n",
    "                                                  random_state = 7)"
   ]
  },
  {
   "cell_type": "markdown",
   "metadata": {},
   "source": [
    "Below we can see the number of observations for each dataset."
   ]
  },
  {
   "cell_type": "code",
   "execution_count": 40,
   "metadata": {},
   "outputs": [
    {
     "name": "stdout",
     "output_type": "stream",
     "text": [
      "Result dataset: 369446\n",
      "Training dataset: 557311\n",
      "Test dataset: 61924\n"
     ]
    }
   ],
   "source": [
    "print('Result dataset: ' + str(result_dataset.shape[0]))\n",
    "print('Training dataset: ' + str(training_dataset.shape[0]))\n",
    "print('Test dataset: ' + str(test_dataset.shape[0]))"
   ]
  },
  {
   "cell_type": "markdown",
   "metadata": {},
   "source": [
    "### Modeling\n",
    "\n",
    "With all datasets required for the modeling process we can start and run all models in a loop and compare their errors.\n",
    "\n",
    "As our response feature is continuous we will have to use some regression models to predict the response, we'll use:\n",
    "\n",
    "* linear regression (a very basic model to use as a reference, i.e., low benchmark performance)\n",
    "* random forest\n",
    "* support vector machine\n",
    "* gradient boosting\n",
    "\n",
    "To evaluate the final model performance we will use the root mean square error (RMSE) as shown below.\n",
    "\n",
    "<img src = \"img/evaluation.png\">\n",
    "\n",
    "To create these models we'll use:\n",
    "\n",
    "* a sample from the training_dataset (10%) for processing time\n",
    "* select the continuous features ('session_durantion_minute', 'path_lenght') and the new binary features that we created from the discrete ones ('locale', 'day_of_week', 'hour_of_day', 'agent_id' and 'traffic_type')"
   ]
  },
  {
   "cell_type": "code",
   "execution_count": 19,
   "metadata": {},
   "outputs": [
    {
     "name": "stdout",
     "output_type": "stream",
     "text": [
      "0 row_num\n",
      "1 locale\n",
      "2 day_of_week\n",
      "3 hour_of_day\n",
      "4 agent_id\n",
      "5 entry_page\n",
      "6 path_id_set\n",
      "7 traffic_type\n",
      "8 session_durantion\n",
      "9 hits\n",
      "10 session_durantion_minute\n",
      "11 session_durantion_minute_band\n",
      "12 path_length\n",
      "13 locale_L1\n",
      "14 locale_L2\n",
      "15 locale_L3\n",
      "16 locale_L4\n",
      "17 locale_L5\n",
      "18 locale_L6\n",
      "19 day_of_week_Friday\n",
      "20 day_of_week_Monday\n",
      "21 day_of_week_Saturday\n",
      "22 day_of_week_Sunday\n",
      "23 day_of_week_Thursday\n",
      "24 day_of_week_Tuesday\n",
      "25 day_of_week_Wednesday\n",
      "26 hour_of_day_0\n",
      "27 hour_of_day_1\n",
      "28 hour_of_day_2\n",
      "29 hour_of_day_3\n",
      "30 hour_of_day_4\n",
      "31 hour_of_day_5\n",
      "32 hour_of_day_6\n",
      "33 hour_of_day_7\n",
      "34 hour_of_day_8\n",
      "35 hour_of_day_9\n",
      "36 hour_of_day_10\n",
      "37 hour_of_day_11\n",
      "38 hour_of_day_12\n",
      "39 hour_of_day_13\n",
      "40 hour_of_day_14\n",
      "41 hour_of_day_15\n",
      "42 hour_of_day_16\n",
      "43 hour_of_day_17\n",
      "44 hour_of_day_18\n",
      "45 hour_of_day_19\n",
      "46 hour_of_day_20\n",
      "47 hour_of_day_21\n",
      "48 hour_of_day_22\n",
      "49 hour_of_day_23\n",
      "50 agent_id_0\n",
      "51 agent_id_1\n",
      "52 agent_id_2\n",
      "53 agent_id_3\n",
      "54 agent_id_4\n",
      "55 agent_id_5\n",
      "56 agent_id_6\n",
      "57 agent_id_7\n",
      "58 agent_id_8\n",
      "59 agent_id_9\n",
      "60 agent_id_10\n",
      "61 agent_id_11\n",
      "62 agent_id_12\n",
      "63 agent_id_13\n",
      "64 agent_id_14\n",
      "65 agent_id_15\n",
      "66 traffic_type_1\n",
      "67 traffic_type_2\n",
      "68 traffic_type_3\n",
      "69 traffic_type_4\n",
      "70 traffic_type_6\n",
      "71 traffic_type_7\n"
     ]
    }
   ],
   "source": [
    "allColumns = list(training_dataset.columns.values)\n",
    "\n",
    "for i in range(0, len(allColumns) -1):\n",
    "    print(str(i) + ' ' + allColumns[i])"
   ]
  },
  {
   "cell_type": "code",
   "execution_count": 20,
   "metadata": {},
   "outputs": [
    {
     "data": {
      "text/html": [
       "<div>\n",
       "<style scoped>\n",
       "    .dataframe tbody tr th:only-of-type {\n",
       "        vertical-align: middle;\n",
       "    }\n",
       "\n",
       "    .dataframe tbody tr th {\n",
       "        vertical-align: top;\n",
       "    }\n",
       "\n",
       "    .dataframe thead th {\n",
       "        text-align: right;\n",
       "    }\n",
       "</style>\n",
       "<table border=\"1\" class=\"dataframe\">\n",
       "  <thead>\n",
       "    <tr style=\"text-align: right;\">\n",
       "      <th></th>\n",
       "      <th>hits</th>\n",
       "      <th>session_durantion_minute</th>\n",
       "      <th>path_length</th>\n",
       "      <th>locale_L1</th>\n",
       "      <th>locale_L2</th>\n",
       "      <th>locale_L3</th>\n",
       "      <th>locale_L4</th>\n",
       "      <th>locale_L5</th>\n",
       "      <th>locale_L6</th>\n",
       "      <th>day_of_week_Friday</th>\n",
       "      <th>...</th>\n",
       "      <th>agent_id_12</th>\n",
       "      <th>agent_id_13</th>\n",
       "      <th>agent_id_14</th>\n",
       "      <th>agent_id_15</th>\n",
       "      <th>traffic_type_1</th>\n",
       "      <th>traffic_type_2</th>\n",
       "      <th>traffic_type_3</th>\n",
       "      <th>traffic_type_4</th>\n",
       "      <th>traffic_type_6</th>\n",
       "      <th>traffic_type_7</th>\n",
       "    </tr>\n",
       "  </thead>\n",
       "  <tbody>\n",
       "    <tr>\n",
       "      <th>218184</th>\n",
       "      <td>8.0</td>\n",
       "      <td>5.300000</td>\n",
       "      <td>2</td>\n",
       "      <td>0</td>\n",
       "      <td>0</td>\n",
       "      <td>0</td>\n",
       "      <td>0</td>\n",
       "      <td>0</td>\n",
       "      <td>1</td>\n",
       "      <td>1</td>\n",
       "      <td>...</td>\n",
       "      <td>0</td>\n",
       "      <td>1</td>\n",
       "      <td>0</td>\n",
       "      <td>0</td>\n",
       "      <td>0</td>\n",
       "      <td>1</td>\n",
       "      <td>0</td>\n",
       "      <td>0</td>\n",
       "      <td>0</td>\n",
       "      <td>0</td>\n",
       "    </tr>\n",
       "    <tr>\n",
       "      <th>692185</th>\n",
       "      <td>5.0</td>\n",
       "      <td>0.016667</td>\n",
       "      <td>1</td>\n",
       "      <td>0</td>\n",
       "      <td>0</td>\n",
       "      <td>0</td>\n",
       "      <td>1</td>\n",
       "      <td>0</td>\n",
       "      <td>0</td>\n",
       "      <td>0</td>\n",
       "      <td>...</td>\n",
       "      <td>0</td>\n",
       "      <td>0</td>\n",
       "      <td>0</td>\n",
       "      <td>0</td>\n",
       "      <td>1</td>\n",
       "      <td>0</td>\n",
       "      <td>0</td>\n",
       "      <td>0</td>\n",
       "      <td>0</td>\n",
       "      <td>0</td>\n",
       "    </tr>\n",
       "    <tr>\n",
       "      <th>890079</th>\n",
       "      <td>3.0</td>\n",
       "      <td>0.300000</td>\n",
       "      <td>2</td>\n",
       "      <td>0</td>\n",
       "      <td>0</td>\n",
       "      <td>0</td>\n",
       "      <td>1</td>\n",
       "      <td>0</td>\n",
       "      <td>0</td>\n",
       "      <td>0</td>\n",
       "      <td>...</td>\n",
       "      <td>0</td>\n",
       "      <td>0</td>\n",
       "      <td>0</td>\n",
       "      <td>0</td>\n",
       "      <td>0</td>\n",
       "      <td>0</td>\n",
       "      <td>0</td>\n",
       "      <td>0</td>\n",
       "      <td>1</td>\n",
       "      <td>0</td>\n",
       "    </tr>\n",
       "    <tr>\n",
       "      <th>338535</th>\n",
       "      <td>29.0</td>\n",
       "      <td>2.916667</td>\n",
       "      <td>3</td>\n",
       "      <td>0</td>\n",
       "      <td>0</td>\n",
       "      <td>0</td>\n",
       "      <td>0</td>\n",
       "      <td>1</td>\n",
       "      <td>0</td>\n",
       "      <td>0</td>\n",
       "      <td>...</td>\n",
       "      <td>0</td>\n",
       "      <td>0</td>\n",
       "      <td>0</td>\n",
       "      <td>0</td>\n",
       "      <td>1</td>\n",
       "      <td>0</td>\n",
       "      <td>0</td>\n",
       "      <td>0</td>\n",
       "      <td>0</td>\n",
       "      <td>0</td>\n",
       "    </tr>\n",
       "    <tr>\n",
       "      <th>405955</th>\n",
       "      <td>74.0</td>\n",
       "      <td>167.116667</td>\n",
       "      <td>6</td>\n",
       "      <td>0</td>\n",
       "      <td>0</td>\n",
       "      <td>0</td>\n",
       "      <td>0</td>\n",
       "      <td>1</td>\n",
       "      <td>0</td>\n",
       "      <td>0</td>\n",
       "      <td>...</td>\n",
       "      <td>0</td>\n",
       "      <td>0</td>\n",
       "      <td>0</td>\n",
       "      <td>0</td>\n",
       "      <td>1</td>\n",
       "      <td>0</td>\n",
       "      <td>0</td>\n",
       "      <td>0</td>\n",
       "      <td>0</td>\n",
       "      <td>0</td>\n",
       "    </tr>\n",
       "  </tbody>\n",
       "</table>\n",
       "<p>5 rows × 62 columns</p>\n",
       "</div>"
      ],
      "text/plain": [
       "        hits  session_durantion_minute  path_length  locale_L1  locale_L2  \\\n",
       "218184   8.0                  5.300000            2          0          0   \n",
       "692185   5.0                  0.016667            1          0          0   \n",
       "890079   3.0                  0.300000            2          0          0   \n",
       "338535  29.0                  2.916667            3          0          0   \n",
       "405955  74.0                167.116667            6          0          0   \n",
       "\n",
       "        locale_L3  locale_L4  locale_L5  locale_L6  day_of_week_Friday  \\\n",
       "218184          0          0          0          1                   1   \n",
       "692185          0          1          0          0                   0   \n",
       "890079          0          1          0          0                   0   \n",
       "338535          0          0          1          0                   0   \n",
       "405955          0          0          1          0                   0   \n",
       "\n",
       "             ...        agent_id_12  agent_id_13  agent_id_14  agent_id_15  \\\n",
       "218184       ...                  0            1            0            0   \n",
       "692185       ...                  0            0            0            0   \n",
       "890079       ...                  0            0            0            0   \n",
       "338535       ...                  0            0            0            0   \n",
       "405955       ...                  0            0            0            0   \n",
       "\n",
       "        traffic_type_1  traffic_type_2  traffic_type_3  traffic_type_4  \\\n",
       "218184               0               1               0               0   \n",
       "692185               1               0               0               0   \n",
       "890079               0               0               0               0   \n",
       "338535               1               0               0               0   \n",
       "405955               1               0               0               0   \n",
       "\n",
       "        traffic_type_6  traffic_type_7  \n",
       "218184               0               0  \n",
       "692185               0               0  \n",
       "890079               1               0  \n",
       "338535               0               0  \n",
       "405955               0               0  \n",
       "\n",
       "[5 rows x 62 columns]"
      ]
     },
     "execution_count": 20,
     "metadata": {},
     "output_type": "execute_result"
    }
   ],
   "source": [
    "training_dataset.iloc[0:55731, np.r_[9:11, 12:72]].head()"
   ]
  },
  {
   "cell_type": "code",
   "execution_count": 21,
   "metadata": {
    "scrolled": true
   },
   "outputs": [],
   "source": [
    "array = training_dataset.iloc[0:55731, np.r_[9:11, 12:72]].values\n",
    "\n",
    "X = array[:, 1:62]\n",
    "Y = array[:, 0]"
   ]
  },
  {
   "cell_type": "code",
   "execution_count": 116,
   "metadata": {},
   "outputs": [
    {
     "name": "stdout",
     "output_type": "stream",
     "text": [
      "Linear Regression 2018-09-12 23:07:52.434799\n",
      "Random Forest 2018-09-12 23:07:55.548537\n",
      "Support Vector Machine 2018-09-12 23:08:29.895201\n",
      "Gradient Boosting 2018-09-12 23:49:57.167145\n",
      "The End - 2018-09-12 23:52:24.934300\n"
     ]
    },
    {
     "data": {
      "image/png": "[encoded data removed]",
      "text/plain": [
       "<Figure size 432x288 with 1 Axes>"
      ]
     },
     "metadata": {},
     "output_type": "display_data"
    }
   ],
   "source": [
    "# set seed for reproducibility\n",
    "seed = 7\n",
    "\n",
    "# prepare models\n",
    "models = []\n",
    "models.append(('Linear Regression', LinearRegression()))\n",
    "models.append(('Random Forest', RandomForestRegressor()))\n",
    "models.append(('Support Vector Machine', SVR()))\n",
    "models.append(('Gradient Boosting', GradientBoostingRegressor()))\n",
    "\n",
    "# evaluate each model\n",
    "results = []\n",
    "names = []\n",
    "scoring = 'neg_mean_squared_error'\n",
    "\n",
    "for model_name, model in models:\n",
    "    print(model_name + ' ' + str(datetime.datetime.now()))\n",
    "    kfold = model_selection.KFold(n_splits = 10,\n",
    "                                  random_state = seed)    \n",
    "    cv_results = model_selection.cross_val_score(model, X, Y,\n",
    "                                                 cv = kfold,\n",
    "                                                 scoring = scoring)    \n",
    "    results.append(cv_results)\n",
    "    names.append(model_name)\n",
    "\n",
    "print('The End - ' + str(datetime.datetime.now()))\n",
    "\n",
    "# boxplot models comparison\n",
    "fig = plt.figure()\n",
    "fig.suptitle('Models comparison')\n",
    "ax = fig.add_subplot(111)\n",
    "plt.boxplot(results)\n",
    "ax.set_xticklabels(names)\n",
    "plt.show()"
   ]
  },
  {
   "cell_type": "markdown",
   "metadata": {},
   "source": [
    "Based on the comparison between these four models, the best performance achieved was from the Gradient Boosting algorithm. So, let's apply it and take a look deeper on the model parameters below.\n",
    "\n",
    "* max_depth\n",
    "* learning_rate\n",
    "* n_estimators\n",
    "* min_samples_leaf\n",
    "\n",
    "After varying the model parameters and doing a cross-validation k-fold (k equals 10) we end up with the model below."
   ]
  },
  {
   "cell_type": "code",
   "execution_count": 26,
   "metadata": {},
   "outputs": [
    {
     "name": "stdout",
     "output_type": "stream",
     "text": [
      "Neg Mean Squared Error: -947.95 \n"
     ]
    }
   ],
   "source": [
    "model = GradientBoostingRegressor(criterion = 'friedman_mse',\n",
    "                                 max_depth = 3,\n",
    "                                 learning_rate = 0.05,\n",
    "                                 n_estimators = 100,\n",
    "                                 min_samples_leaf = 1,\n",
    "                                 random_state = 7)\n",
    "\n",
    "kfold = model_selection.KFold(n_splits = 10,\n",
    "                              random_state = 7)\n",
    "\n",
    "cv_results = model_selection.cross_val_score(model, X, Y,\n",
    "                                             cv = kfold,\n",
    "                                             scoring = 'neg_mean_squared_error')\n",
    "\n",
    "print(\"Neg Mean Squared Error: %.2f \" % pd.DataFrame(cv_results).median())"
   ]
  },
  {
   "cell_type": "markdown",
   "metadata": {},
   "source": [
    "Now that we know the average performance on the cross-validation k-fold we'll fit it on the training_dataset and apply on the test_dataset to see how it performs."
   ]
  },
  {
   "cell_type": "code",
   "execution_count": 29,
   "metadata": {},
   "outputs": [
    {
     "name": "stdout",
     "output_type": "stream",
     "text": [
      "Mean Squared Error (training): 930.96\n",
      "Mean Squared Error (test): 991.88\n"
     ]
    }
   ],
   "source": [
    "model.fit(X, Y)\n",
    "\n",
    "array = test_dataset.iloc[:, np.r_[9:11, 12:72]].values\n",
    "\n",
    "X_test = array[:, 1:62]\n",
    "Y_test = array[:, 0]\n",
    "\n",
    "Y_pred = model.predict(X)\n",
    "Y_test_pred = model.predict(X_test)\n",
    "\n",
    "print(\"Mean Squared Error (training): %.2f\" % mean_squared_error(Y, Y_pred))\n",
    "print(\"Mean Squared Error (test): %.2f\" % mean_squared_error(Y_test, Y_test_pred))"
   ]
  },
  {
   "cell_type": "markdown",
   "metadata": {},
   "source": [
    "It seems that the model's performance on the training_dataset and on the test_dataset are very close to each other what indicates that it may probably fit well on the \"production\" environment, in that manner, on the result_dataset too."
   ]
  },
  {
   "cell_type": "markdown",
   "metadata": {},
   "source": [
    "### Evaluation\n",
    "\n",
    "By last, we will use the model from the last section to predict the hits on the 'result_dataset' and save as a csv file."
   ]
  },
  {
   "cell_type": "code",
   "execution_count": 70,
   "metadata": {},
   "outputs": [
    {
     "data": {
      "text/html": [
       "<div>\n",
       "<style scoped>\n",
       "    .dataframe tbody tr th:only-of-type {\n",
       "        vertical-align: middle;\n",
       "    }\n",
       "\n",
       "    .dataframe tbody tr th {\n",
       "        vertical-align: top;\n",
       "    }\n",
       "\n",
       "    .dataframe thead th {\n",
       "        text-align: right;\n",
       "    }\n",
       "</style>\n",
       "<table border=\"1\" class=\"dataframe\">\n",
       "  <thead>\n",
       "    <tr style=\"text-align: right;\">\n",
       "      <th></th>\n",
       "      <th>row_num</th>\n",
       "      <th>hits</th>\n",
       "    </tr>\n",
       "  </thead>\n",
       "  <tbody>\n",
       "    <tr>\n",
       "      <th>0</th>\n",
       "      <td>988681</td>\n",
       "      <td>57.761966</td>\n",
       "    </tr>\n",
       "    <tr>\n",
       "      <th>1</th>\n",
       "      <td>988666</td>\n",
       "      <td>64.256978</td>\n",
       "    </tr>\n",
       "    <tr>\n",
       "      <th>2</th>\n",
       "      <td>988665</td>\n",
       "      <td>3.723602</td>\n",
       "    </tr>\n",
       "    <tr>\n",
       "      <th>3</th>\n",
       "      <td>988664</td>\n",
       "      <td>98.668566</td>\n",
       "    </tr>\n",
       "    <tr>\n",
       "      <th>4</th>\n",
       "      <td>988663</td>\n",
       "      <td>17.514411</td>\n",
       "    </tr>\n",
       "  </tbody>\n",
       "</table>\n",
       "</div>"
      ],
      "text/plain": [
       "   row_num       hits\n",
       "0   988681  57.761966\n",
       "1   988666  64.256978\n",
       "2   988665   3.723602\n",
       "3   988664  98.668566\n",
       "4   988663  17.514411"
      ]
     },
     "execution_count": 70,
     "metadata": {},
     "output_type": "execute_result"
    }
   ],
   "source": [
    "array = result_dataset.iloc[:, np.r_[9:11, 12:73]].values\n",
    "\n",
    "X_result = array[:, 1:62]\n",
    "Y_result = model.predict(X_result)\n",
    "\n",
    "result = pd.concat([pd.DataFrame(result_dataset['row_num']).reset_index(drop = True),\n",
    "                    pd.DataFrame(Y_result).reset_index(drop = True)],\n",
    "                   axis = 1)\n",
    "\n",
    "result.columns = ['row_num', 'hits']\n",
    "\n",
    "result.head()"
   ]
  },
  {
   "cell_type": "code",
   "execution_count": 73,
   "metadata": {},
   "outputs": [
    {
     "name": "stdout",
     "output_type": "stream",
     "text": [
      "369446\n"
     ]
    }
   ],
   "source": [
    "print(result.shape[0])"
   ]
  },
  {
   "cell_type": "code",
   "execution_count": 74,
   "metadata": {},
   "outputs": [],
   "source": [
    "result.to_csv(path_or_buf = '../database/result.csv', sep = ';', index = False)"
   ]
  }
 ],
 "metadata": {
  "kernelspec": {
   "display_name": "Python 3",
   "language": "python",
   "name": "python3"
  },
  "language_info": {
   "codemirror_mode": {
    "name": "ipython",
    "version": 3
   },
   "file_extension": ".py",
   "mimetype": "text/x-python",
   "name": "python",
   "nbconvert_exporter": "python",
   "pygments_lexer": "ipython3",
   "version": "3.7.0"
  }
 },
 "nbformat": 4,
 "nbformat_minor": 2
}
